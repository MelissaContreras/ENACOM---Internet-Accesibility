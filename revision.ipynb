{
 "cells": [
  {
   "attachments": {},
   "cell_type": "markdown",
   "metadata": {},
   "source": [
    "#### Proyecto:\n",
    "##### Rol: Data Analyst"
   ]
  },
  {
   "attachments": {},
   "cell_type": "markdown",
   "metadata": {},
   "source": [
    "# <center> ***Telecomunicaciones - ENACOM - Argentina*** </center>"
   ]
  },
  {
   "attachments": {},
   "cell_type": "markdown",
   "metadata": {},
   "source": [
    "# **EDA**\n",
    "\n",
    "#### Análisis de los datasets obtenidos de la entidad Argentina ENACOM."
   ]
  },
  {
   "attachments": {},
   "cell_type": "markdown",
   "metadata": {},
   "source": [
    "##### Importamos la librería de pandas para leer los documentos y matplotlib y seaborn para graficar."
   ]
  },
  {
   "cell_type": "code",
   "execution_count": 26,
   "metadata": {},
   "outputs": [],
   "source": [
    "import pandas as pd\n",
    "import matplotlib.pyplot as plt\n",
    "import seaborn as sns"
   ]
  },
  {
   "attachments": {},
   "cell_type": "markdown",
   "metadata": {},
   "source": [
    "#### Dataset de acceso a Internet fijo (accesos por cada 100 hogares por provincia)\n",
    "##### La medida de la columna \"Accesos por cada 100 hogares\" es porcentual."
   ]
  },
  {
   "cell_type": "code",
   "execution_count": 27,
   "metadata": {},
   "outputs": [
    {
     "data": {
      "text/html": [
       "<div>\n",
       "<style scoped>\n",
       "    .dataframe tbody tr th:only-of-type {\n",
       "        vertical-align: middle;\n",
       "    }\n",
       "\n",
       "    .dataframe tbody tr th {\n",
       "        vertical-align: top;\n",
       "    }\n",
       "\n",
       "    .dataframe thead th {\n",
       "        text-align: right;\n",
       "    }\n",
       "</style>\n",
       "<table border=\"1\" class=\"dataframe\">\n",
       "  <thead>\n",
       "    <tr style=\"text-align: right;\">\n",
       "      <th></th>\n",
       "      <th>Año</th>\n",
       "      <th>Trimestre</th>\n",
       "      <th>Provincia</th>\n",
       "      <th>Accesos por cada 100 hogares</th>\n",
       "    </tr>\n",
       "  </thead>\n",
       "  <tbody>\n",
       "    <tr>\n",
       "      <th>0</th>\n",
       "      <td>2022</td>\n",
       "      <td>1</td>\n",
       "      <td>Buenos Aires</td>\n",
       "      <td>76,08</td>\n",
       "    </tr>\n",
       "    <tr>\n",
       "      <th>1</th>\n",
       "      <td>2022</td>\n",
       "      <td>1</td>\n",
       "      <td>Capital Federal</td>\n",
       "      <td>111,8</td>\n",
       "    </tr>\n",
       "    <tr>\n",
       "      <th>2</th>\n",
       "      <td>2022</td>\n",
       "      <td>1</td>\n",
       "      <td>Catamarca</td>\n",
       "      <td>58,21</td>\n",
       "    </tr>\n",
       "    <tr>\n",
       "      <th>3</th>\n",
       "      <td>2022</td>\n",
       "      <td>1</td>\n",
       "      <td>Chaco</td>\n",
       "      <td>44,06</td>\n",
       "    </tr>\n",
       "    <tr>\n",
       "      <th>4</th>\n",
       "      <td>2022</td>\n",
       "      <td>1</td>\n",
       "      <td>Chubut</td>\n",
       "      <td>88,05</td>\n",
       "    </tr>\n",
       "    <tr>\n",
       "      <th>5</th>\n",
       "      <td>2022</td>\n",
       "      <td>1</td>\n",
       "      <td>Córdoba</td>\n",
       "      <td>85,76</td>\n",
       "    </tr>\n",
       "    <tr>\n",
       "      <th>6</th>\n",
       "      <td>2022</td>\n",
       "      <td>1</td>\n",
       "      <td>Corrientes</td>\n",
       "      <td>47,64</td>\n",
       "    </tr>\n",
       "    <tr>\n",
       "      <th>7</th>\n",
       "      <td>2022</td>\n",
       "      <td>1</td>\n",
       "      <td>Entre Ríos</td>\n",
       "      <td>63,7</td>\n",
       "    </tr>\n",
       "    <tr>\n",
       "      <th>8</th>\n",
       "      <td>2022</td>\n",
       "      <td>1</td>\n",
       "      <td>Formosa</td>\n",
       "      <td>34,96</td>\n",
       "    </tr>\n",
       "    <tr>\n",
       "      <th>9</th>\n",
       "      <td>2022</td>\n",
       "      <td>1</td>\n",
       "      <td>Jujuy</td>\n",
       "      <td>58,06</td>\n",
       "    </tr>\n",
       "    <tr>\n",
       "      <th>10</th>\n",
       "      <td>2022</td>\n",
       "      <td>1</td>\n",
       "      <td>La Pampa</td>\n",
       "      <td>91,66</td>\n",
       "    </tr>\n",
       "    <tr>\n",
       "      <th>11</th>\n",
       "      <td>2022</td>\n",
       "      <td>1</td>\n",
       "      <td>La Rioja</td>\n",
       "      <td>78,77</td>\n",
       "    </tr>\n",
       "  </tbody>\n",
       "</table>\n",
       "</div>"
      ],
      "text/plain": [
       "     Año  Trimestre        Provincia Accesos por cada 100 hogares\n",
       "0   2022          1     Buenos Aires                        76,08\n",
       "1   2022          1  Capital Federal                        111,8\n",
       "2   2022          1        Catamarca                        58,21\n",
       "3   2022          1            Chaco                        44,06\n",
       "4   2022          1           Chubut                        88,05\n",
       "5   2022          1          Córdoba                        85,76\n",
       "6   2022          1       Corrientes                        47,64\n",
       "7   2022          1       Entre Ríos                         63,7\n",
       "8   2022          1          Formosa                        34,96\n",
       "9   2022          1            Jujuy                        58,06\n",
       "10  2022          1         La Pampa                        91,66\n",
       "11  2022          1         La Rioja                        78,77"
      ]
     },
     "execution_count": 27,
     "metadata": {},
     "output_type": "execute_result"
    }
   ],
   "source": [
    "\n",
    "Acceso_internet_fijo = pd.read_csv(\"D:/Melissa/Data Analitycs Enacom/Internet.csv\")\n",
    "\n",
    "Acceso_internet_fijo.head(12)"
   ]
  },
  {
   "attachments": {},
   "cell_type": "markdown",
   "metadata": {},
   "source": [
    "Revisamos sí tenemos datos faltantes"
   ]
  },
  {
   "cell_type": "code",
   "execution_count": 28,
   "metadata": {},
   "outputs": [
    {
     "data": {
      "text/plain": [
       "Año                             0\n",
       "Trimestre                       0\n",
       "Provincia                       0\n",
       "Accesos por cada 100 hogares    0\n",
       "dtype: int64"
      ]
     },
     "execution_count": 28,
     "metadata": {},
     "output_type": "execute_result"
    }
   ],
   "source": [
    "Acceso_internet_fijo.isnull().sum()"
   ]
  },
  {
   "attachments": {},
   "cell_type": "markdown",
   "metadata": {},
   "source": [
    "#### Revisamos los tipos de datos de las columnas. Observamos que la columna \"Accesos por cada 100 hogares\" es un objeto, al ser una medida para graficarla debe ser transformada a un dato de tipo numérico."
   ]
  },
  {
   "cell_type": "code",
   "execution_count": 29,
   "metadata": {},
   "outputs": [
    {
     "name": "stdout",
     "output_type": "stream",
     "text": [
      "<class 'pandas.core.frame.DataFrame'>\n",
      "RangeIndex: 792 entries, 0 to 791\n",
      "Data columns (total 4 columns):\n",
      " #   Column                        Non-Null Count  Dtype \n",
      "---  ------                        --------------  ----- \n",
      " 0   Año                           792 non-null    int64 \n",
      " 1   Trimestre                     792 non-null    int64 \n",
      " 2   Provincia                     792 non-null    object\n",
      " 3   Accesos por cada 100 hogares  792 non-null    object\n",
      "dtypes: int64(2), object(2)\n",
      "memory usage: 24.9+ KB\n"
     ]
    }
   ],
   "source": [
    "Acceso_internet_fijo.info()"
   ]
  },
  {
   "attachments": {},
   "cell_type": "markdown",
   "metadata": {},
   "source": [
    "Procedemos a usar una función lambda para transformar el dato."
   ]
  },
  {
   "cell_type": "code",
   "execution_count": 30,
   "metadata": {},
   "outputs": [
    {
     "name": "stdout",
     "output_type": "stream",
     "text": [
      "0       76.08\n",
      "1      111.80\n",
      "2       58.21\n",
      "3       44.06\n",
      "4       88.05\n",
      "        ...  \n",
      "787     28.94\n",
      "788     47.85\n",
      "789     16.31\n",
      "790     63.97\n",
      "791     33.42\n",
      "Name: Accesos por cada 100 hogares, Length: 792, dtype: float64\n"
     ]
    }
   ],
   "source": [
    "Acceso_internet_fijo['Accesos por cada 100 hogares'] = Acceso_internet_fijo['Accesos por cada 100 hogares'].apply(lambda x: float(x.split()[0].replace(',', '.')))\n",
    "print (Acceso_internet_fijo['Accesos por cada 100 hogares'])"
   ]
  },
  {
   "cell_type": "code",
   "execution_count": 31,
   "metadata": {},
   "outputs": [
    {
     "name": "stdout",
     "output_type": "stream",
     "text": [
      "<class 'pandas.core.frame.DataFrame'>\n",
      "RangeIndex: 792 entries, 0 to 791\n",
      "Data columns (total 4 columns):\n",
      " #   Column                        Non-Null Count  Dtype  \n",
      "---  ------                        --------------  -----  \n",
      " 0   Año                           792 non-null    int64  \n",
      " 1   Trimestre                     792 non-null    int64  \n",
      " 2   Provincia                     792 non-null    object \n",
      " 3   Accesos por cada 100 hogares  792 non-null    float64\n",
      "dtypes: float64(1), int64(2), object(1)\n",
      "memory usage: 24.9+ KB\n"
     ]
    }
   ],
   "source": [
    "Acceso_internet_fijo.info()"
   ]
  },
  {
   "attachments": {},
   "cell_type": "markdown",
   "metadata": {},
   "source": [
    "#### Graficamos los datos del dataframe "
   ]
  },
  {
   "cell_type": "code",
   "execution_count": 32,
   "metadata": {},
   "outputs": [
    {
     "data": {
      "image/png": "[encoded data removed]",
      "text/plain": [
       "<Figure size 1900x1000 with 4 Axes>"
      ]
     },
     "metadata": {},
     "output_type": "display_data"
    }
   ],
   "source": [
    "Acceso_internet_fijo.hist(bins=18, figsize= (19,10))\n",
    "plt.show()"
   ]
  },
  {
   "cell_type": "code",
   "execution_count": 33,
   "metadata": {},
   "outputs": [
    {
     "data": {
      "image/png": "[encoded data removed]",
      "text/plain": [
       "<Figure size 800x600 with 1 Axes>"
      ]
     },
     "metadata": {},
     "output_type": "display_data"
    }
   ],
   "source": [
    "plt.figure(figsize=(8, 6), dpi=100)\n",
    "\n",
    "plt.bar(Acceso_internet_fijo[\"Provincia\"], Acceso_internet_fijo[\"Accesos por cada 100 hogares\"])\n",
    "plt.xticks(rotation=90)\n",
    "plt.yticks(rotation=0)\n",
    "plt.show()"
   ]
  },
  {
   "attachments": {},
   "cell_type": "markdown",
   "metadata": {},
   "source": [
    "#### Luego del respectivo análisis y transformación, lo convertimos a CSV."
   ]
  },
  {
   "cell_type": "code",
   "execution_count": 34,
   "metadata": {},
   "outputs": [],
   "source": [
    "Acceso_internet_fijo.to_csv('D:/Melissa/Data Analitycs Enacom/Acceso_internet_fijoxProvincia.csv', index=False)\n"
   ]
  },
  {
   "attachments": {},
   "cell_type": "markdown",
   "metadata": {},
   "source": [
    "#### Acceso por hogares nacional de Internet fijo\n",
    "##### Serie trimestral de la penetración del Internet fijo en la métrica por cada 100 hogares"
   ]
  },
  {
   "cell_type": "code",
   "execution_count": 94,
   "metadata": {},
   "outputs": [
    {
     "data": {
      "text/html": [
       "<div>\n",
       "<style scoped>\n",
       "    .dataframe tbody tr th:only-of-type {\n",
       "        vertical-align: middle;\n",
       "    }\n",
       "\n",
       "    .dataframe tbody tr th {\n",
       "        vertical-align: top;\n",
       "    }\n",
       "\n",
       "    .dataframe thead th {\n",
       "        text-align: right;\n",
       "    }\n",
       "</style>\n",
       "<table border=\"1\" class=\"dataframe\">\n",
       "  <thead>\n",
       "    <tr style=\"text-align: right;\">\n",
       "      <th></th>\n",
       "      <th>Año</th>\n",
       "      <th>Trimestre</th>\n",
       "      <th>Accesos por cada 100 hogares</th>\n",
       "      <th>Accesos por cada 100 hab</th>\n",
       "      <th>Periodo</th>\n",
       "    </tr>\n",
       "  </thead>\n",
       "  <tbody>\n",
       "    <tr>\n",
       "      <th>0</th>\n",
       "      <td>2022</td>\n",
       "      <td>1</td>\n",
       "      <td>73,88</td>\n",
       "      <td>23,05</td>\n",
       "      <td>Ene-Mar 2022</td>\n",
       "    </tr>\n",
       "    <tr>\n",
       "      <th>1</th>\n",
       "      <td>2021</td>\n",
       "      <td>4</td>\n",
       "      <td>73,18</td>\n",
       "      <td>22,81</td>\n",
       "      <td>Oct-Dic 2021</td>\n",
       "    </tr>\n",
       "    <tr>\n",
       "      <th>2</th>\n",
       "      <td>2021</td>\n",
       "      <td>3</td>\n",
       "      <td>70,58</td>\n",
       "      <td>21,98</td>\n",
       "      <td>Jul-Sept 2021</td>\n",
       "    </tr>\n",
       "    <tr>\n",
       "      <th>3</th>\n",
       "      <td>2021</td>\n",
       "      <td>2</td>\n",
       "      <td>69,24</td>\n",
       "      <td>21,55</td>\n",
       "      <td>Abr-Jun 2021</td>\n",
       "    </tr>\n",
       "    <tr>\n",
       "      <th>4</th>\n",
       "      <td>2021</td>\n",
       "      <td>1</td>\n",
       "      <td>67,95</td>\n",
       "      <td>21,13</td>\n",
       "      <td>Ene-Mar 2021</td>\n",
       "    </tr>\n",
       "    <tr>\n",
       "      <th>5</th>\n",
       "      <td>2020</td>\n",
       "      <td>4</td>\n",
       "      <td>67,62</td>\n",
       "      <td>21,01</td>\n",
       "      <td>Oct-Dic 2020</td>\n",
       "    </tr>\n",
       "    <tr>\n",
       "      <th>6</th>\n",
       "      <td>2020</td>\n",
       "      <td>3</td>\n",
       "      <td>66,31</td>\n",
       "      <td>20,59</td>\n",
       "      <td>Jul-Sept 2020</td>\n",
       "    </tr>\n",
       "    <tr>\n",
       "      <th>7</th>\n",
       "      <td>2020</td>\n",
       "      <td>2</td>\n",
       "      <td>64,21</td>\n",
       "      <td>19,92</td>\n",
       "      <td>Abr-Jun 2020</td>\n",
       "    </tr>\n",
       "    <tr>\n",
       "      <th>8</th>\n",
       "      <td>2020</td>\n",
       "      <td>1</td>\n",
       "      <td>62,86</td>\n",
       "      <td>19,48</td>\n",
       "      <td>Ene-Mar 2020</td>\n",
       "    </tr>\n",
       "    <tr>\n",
       "      <th>9</th>\n",
       "      <td>2019</td>\n",
       "      <td>4</td>\n",
       "      <td>62,92</td>\n",
       "      <td>19,49</td>\n",
       "      <td>Oct-Dic 2019</td>\n",
       "    </tr>\n",
       "    <tr>\n",
       "      <th>10</th>\n",
       "      <td>2019</td>\n",
       "      <td>3</td>\n",
       "      <td>65,79</td>\n",
       "      <td>20,36</td>\n",
       "      <td>Jul-Sept 2019</td>\n",
       "    </tr>\n",
       "    <tr>\n",
       "      <th>11</th>\n",
       "      <td>2019</td>\n",
       "      <td>2</td>\n",
       "      <td>64,53</td>\n",
       "      <td>19,96</td>\n",
       "      <td>Abr-Jun 2019</td>\n",
       "    </tr>\n",
       "  </tbody>\n",
       "</table>\n",
       "</div>"
      ],
      "text/plain": [
       "     Año  Trimestre Accesos por cada 100 hogares Accesos por cada 100 hab  \\\n",
       "0   2022          1                        73,88                    23,05   \n",
       "1   2021          4                        73,18                    22,81   \n",
       "2   2021          3                        70,58                    21,98   \n",
       "3   2021          2                        69,24                    21,55   \n",
       "4   2021          1                        67,95                    21,13   \n",
       "5   2020          4                        67,62                    21,01   \n",
       "6   2020          3                        66,31                    20,59   \n",
       "7   2020          2                        64,21                    19,92   \n",
       "8   2020          1                        62,86                    19,48   \n",
       "9   2019          4                        62,92                    19,49   \n",
       "10  2019          3                        65,79                    20,36   \n",
       "11  2019          2                        64,53                    19,96   \n",
       "\n",
       "          Periodo  \n",
       "0    Ene-Mar 2022  \n",
       "1    Oct-Dic 2021  \n",
       "2   Jul-Sept 2021  \n",
       "3    Abr-Jun 2021  \n",
       "4    Ene-Mar 2021  \n",
       "5    Oct-Dic 2020  \n",
       "6   Jul-Sept 2020  \n",
       "7    Abr-Jun 2020  \n",
       "8    Ene-Mar 2020  \n",
       "9    Oct-Dic 2019  \n",
       "10  Jul-Sept 2019  \n",
       "11   Abr-Jun 2019  "
      ]
     },
     "execution_count": 94,
     "metadata": {},
     "output_type": "execute_result"
    }
   ],
   "source": [
    "\n",
    "Acceso_internet_nacional = pd.read_csv(\"D:/Melissa/Data Analitycs Enacom/Internet_Penetracion.csv\")\n",
    "\n",
    "Acceso_internet_nacional.head(12)"
   ]
  },
  {
   "attachments": {},
   "cell_type": "markdown",
   "metadata": {},
   "source": [
    "#### Observamos los nulos"
   ]
  },
  {
   "cell_type": "code",
   "execution_count": 95,
   "metadata": {},
   "outputs": [
    {
     "data": {
      "text/plain": [
       "Año                             0\n",
       "Trimestre                       0\n",
       "Accesos por cada 100 hogares    0\n",
       "Accesos por cada 100 hab        0\n",
       "Periodo                         0\n",
       "dtype: int64"
      ]
     },
     "execution_count": 95,
     "metadata": {},
     "output_type": "execute_result"
    }
   ],
   "source": [
    "Acceso_internet_nacional.isnull().sum()"
   ]
  },
  {
   "attachments": {},
   "cell_type": "markdown",
   "metadata": {},
   "source": [
    "#### Observamos los tipos de datos en las columnas\n"
   ]
  },
  {
   "cell_type": "code",
   "execution_count": 96,
   "metadata": {},
   "outputs": [
    {
     "name": "stdout",
     "output_type": "stream",
     "text": [
      "<class 'pandas.core.frame.DataFrame'>\n",
      "RangeIndex: 33 entries, 0 to 32\n",
      "Data columns (total 5 columns):\n",
      " #   Column                        Non-Null Count  Dtype \n",
      "---  ------                        --------------  ----- \n",
      " 0   Año                           33 non-null     int64 \n",
      " 1   Trimestre                     33 non-null     int64 \n",
      " 2   Accesos por cada 100 hogares  33 non-null     object\n",
      " 3   Accesos por cada 100 hab      33 non-null     object\n",
      " 4   Periodo                       33 non-null     object\n",
      "dtypes: int64(2), object(3)\n",
      "memory usage: 1.4+ KB\n"
     ]
    }
   ],
   "source": [
    "Acceso_internet_nacional.info()"
   ]
  },
  {
   "attachments": {},
   "cell_type": "markdown",
   "metadata": {},
   "source": [
    "#### Cambiamos el tipo de dato de la columna \"Accesos por cada 100 hogares\" , la métrica que vamos a usar. De object a float."
   ]
  },
  {
   "cell_type": "code",
   "execution_count": 97,
   "metadata": {},
   "outputs": [
    {
     "name": "stdout",
     "output_type": "stream",
     "text": [
      "0     73.88\n",
      "1     73.18\n",
      "2     70.58\n",
      "3     69.24\n",
      "4     67.95\n",
      "5     67.62\n",
      "6     66.31\n",
      "7     64.21\n",
      "8     62.86\n",
      "9     62.92\n",
      "10    65.79\n",
      "11    64.53\n",
      "12    62.48\n",
      "13    61.42\n",
      "14    60.69\n",
      "15    59.16\n",
      "16    58.82\n",
      "17    57.78\n",
      "18    56.90\n",
      "19    54.90\n",
      "20    54.16\n",
      "21    53.94\n",
      "22    53.73\n",
      "23    53.34\n",
      "24    51.85\n",
      "25    52.63\n",
      "26    52.46\n",
      "27    51.76\n",
      "28    51.36\n",
      "29    50.50\n",
      "30    50.67\n",
      "31    49.86\n",
      "32    49.55\n",
      "Name: Accesos por cada 100 hogares, dtype: float64\n"
     ]
    }
   ],
   "source": [
    "Acceso_internet_nacional['Accesos por cada 100 hogares'] = Acceso_internet_nacional['Accesos por cada 100 hogares'].apply(lambda x: float(x.split()[0].replace(',', '.')))\n",
    "print (Acceso_internet_nacional['Accesos por cada 100 hogares'])"
   ]
  },
  {
   "cell_type": "code",
   "execution_count": 98,
   "metadata": {},
   "outputs": [
    {
     "data": {
      "text/html": [
       "<div>\n",
       "<style scoped>\n",
       "    .dataframe tbody tr th:only-of-type {\n",
       "        vertical-align: middle;\n",
       "    }\n",
       "\n",
       "    .dataframe tbody tr th {\n",
       "        vertical-align: top;\n",
       "    }\n",
       "\n",
       "    .dataframe thead th {\n",
       "        text-align: right;\n",
       "    }\n",
       "</style>\n",
       "<table border=\"1\" class=\"dataframe\">\n",
       "  <thead>\n",
       "    <tr style=\"text-align: right;\">\n",
       "      <th></th>\n",
       "      <th>Año</th>\n",
       "      <th>Trimestre</th>\n",
       "      <th>Accesos por cada 100 hogares</th>\n",
       "      <th>Accesos por cada 100 hab</th>\n",
       "      <th>Periodo</th>\n",
       "    </tr>\n",
       "  </thead>\n",
       "  <tbody>\n",
       "    <tr>\n",
       "      <th>0</th>\n",
       "      <td>2022</td>\n",
       "      <td>1</td>\n",
       "      <td>73.88</td>\n",
       "      <td>23,05</td>\n",
       "      <td>Ene-Mar 2022</td>\n",
       "    </tr>\n",
       "    <tr>\n",
       "      <th>1</th>\n",
       "      <td>2021</td>\n",
       "      <td>4</td>\n",
       "      <td>73.18</td>\n",
       "      <td>22,81</td>\n",
       "      <td>Oct-Dic 2021</td>\n",
       "    </tr>\n",
       "    <tr>\n",
       "      <th>2</th>\n",
       "      <td>2021</td>\n",
       "      <td>3</td>\n",
       "      <td>70.58</td>\n",
       "      <td>21,98</td>\n",
       "      <td>Jul-Sept 2021</td>\n",
       "    </tr>\n",
       "    <tr>\n",
       "      <th>3</th>\n",
       "      <td>2021</td>\n",
       "      <td>2</td>\n",
       "      <td>69.24</td>\n",
       "      <td>21,55</td>\n",
       "      <td>Abr-Jun 2021</td>\n",
       "    </tr>\n",
       "    <tr>\n",
       "      <th>4</th>\n",
       "      <td>2021</td>\n",
       "      <td>1</td>\n",
       "      <td>67.95</td>\n",
       "      <td>21,13</td>\n",
       "      <td>Ene-Mar 2021</td>\n",
       "    </tr>\n",
       "    <tr>\n",
       "      <th>5</th>\n",
       "      <td>2020</td>\n",
       "      <td>4</td>\n",
       "      <td>67.62</td>\n",
       "      <td>21,01</td>\n",
       "      <td>Oct-Dic 2020</td>\n",
       "    </tr>\n",
       "    <tr>\n",
       "      <th>6</th>\n",
       "      <td>2020</td>\n",
       "      <td>3</td>\n",
       "      <td>66.31</td>\n",
       "      <td>20,59</td>\n",
       "      <td>Jul-Sept 2020</td>\n",
       "    </tr>\n",
       "    <tr>\n",
       "      <th>7</th>\n",
       "      <td>2020</td>\n",
       "      <td>2</td>\n",
       "      <td>64.21</td>\n",
       "      <td>19,92</td>\n",
       "      <td>Abr-Jun 2020</td>\n",
       "    </tr>\n",
       "    <tr>\n",
       "      <th>8</th>\n",
       "      <td>2020</td>\n",
       "      <td>1</td>\n",
       "      <td>62.86</td>\n",
       "      <td>19,48</td>\n",
       "      <td>Ene-Mar 2020</td>\n",
       "    </tr>\n",
       "    <tr>\n",
       "      <th>9</th>\n",
       "      <td>2019</td>\n",
       "      <td>4</td>\n",
       "      <td>62.92</td>\n",
       "      <td>19,49</td>\n",
       "      <td>Oct-Dic 2019</td>\n",
       "    </tr>\n",
       "  </tbody>\n",
       "</table>\n",
       "</div>"
      ],
      "text/plain": [
       "    Año  Trimestre  Accesos por cada 100 hogares Accesos por cada 100 hab  \\\n",
       "0  2022          1                         73.88                    23,05   \n",
       "1  2021          4                         73.18                    22,81   \n",
       "2  2021          3                         70.58                    21,98   \n",
       "3  2021          2                         69.24                    21,55   \n",
       "4  2021          1                         67.95                    21,13   \n",
       "5  2020          4                         67.62                    21,01   \n",
       "6  2020          3                         66.31                    20,59   \n",
       "7  2020          2                         64.21                    19,92   \n",
       "8  2020          1                         62.86                    19,48   \n",
       "9  2019          4                         62.92                    19,49   \n",
       "\n",
       "         Periodo  \n",
       "0   Ene-Mar 2022  \n",
       "1   Oct-Dic 2021  \n",
       "2  Jul-Sept 2021  \n",
       "3   Abr-Jun 2021  \n",
       "4   Ene-Mar 2021  \n",
       "5   Oct-Dic 2020  \n",
       "6  Jul-Sept 2020  \n",
       "7   Abr-Jun 2020  \n",
       "8   Ene-Mar 2020  \n",
       "9   Oct-Dic 2019  "
      ]
     },
     "execution_count": 98,
     "metadata": {},
     "output_type": "execute_result"
    }
   ],
   "source": [
    "Acceso_internet_nacional.head(10)"
   ]
  },
  {
   "attachments": {},
   "cell_type": "markdown",
   "metadata": {},
   "source": [
    "#### Graficamos para observar los datos."
   ]
  },
  {
   "cell_type": "code",
   "execution_count": 99,
   "metadata": {},
   "outputs": [
    {
     "data": {
      "image/png": "[encoded data removed]",
      "text/plain": [
       "<Figure size 2000x800 with 4 Axes>"
      ]
     },
     "metadata": {},
     "output_type": "display_data"
    }
   ],
   "source": [
    "Acceso_internet_nacional.hist(bins=22, figsize= (20,8))\n",
    "plt.show()"
   ]
  },
  {
   "attachments": {},
   "cell_type": "markdown",
   "metadata": {},
   "source": [
    "#### Luego del respectivo análisis y transformación, lo convertimos a CSV."
   ]
  },
  {
   "cell_type": "code",
   "execution_count": 100,
   "metadata": {},
   "outputs": [],
   "source": [
    "Acceso_internet_nacional.to_csv('D:/Melissa/Data Analitycs Enacom/Acceso_internet_nacional.csv', index=False)"
   ]
  },
  {
   "attachments": {},
   "cell_type": "markdown",
   "metadata": {},
   "source": [
    "#### Total nacional de accesos a Internet fijo por banda ancha y banda angosta\n",
    "##### Número total de accesos al servicio de Internet fijo por banda ancha y banda angosta (trimestral)"
   ]
  },
  {
   "cell_type": "code",
   "execution_count": 101,
   "metadata": {},
   "outputs": [
    {
     "data": {
      "text/html": [
       "<div>\n",
       "<style scoped>\n",
       "    .dataframe tbody tr th:only-of-type {\n",
       "        vertical-align: middle;\n",
       "    }\n",
       "\n",
       "    .dataframe tbody tr th {\n",
       "        vertical-align: top;\n",
       "    }\n",
       "\n",
       "    .dataframe thead th {\n",
       "        text-align: right;\n",
       "    }\n",
       "</style>\n",
       "<table border=\"1\" class=\"dataframe\">\n",
       "  <thead>\n",
       "    <tr style=\"text-align: right;\">\n",
       "      <th></th>\n",
       "      <th>Año</th>\n",
       "      <th>Trimestre</th>\n",
       "      <th>Banda ancha fija</th>\n",
       "      <th>Dial up</th>\n",
       "      <th>Total</th>\n",
       "      <th>Periodo</th>\n",
       "    </tr>\n",
       "  </thead>\n",
       "  <tbody>\n",
       "    <tr>\n",
       "      <th>0</th>\n",
       "      <td>2022</td>\n",
       "      <td>1</td>\n",
       "      <td>10.611.390</td>\n",
       "      <td>12.619</td>\n",
       "      <td>10.624.009</td>\n",
       "      <td>Ene-Mar 2022</td>\n",
       "    </tr>\n",
       "    <tr>\n",
       "      <th>1</th>\n",
       "      <td>2021</td>\n",
       "      <td>4</td>\n",
       "      <td>10.476.933</td>\n",
       "      <td>12.861</td>\n",
       "      <td>10.489.794</td>\n",
       "      <td>Oct-Dic 2021</td>\n",
       "    </tr>\n",
       "    <tr>\n",
       "      <th>2</th>\n",
       "      <td>2021</td>\n",
       "      <td>3</td>\n",
       "      <td>10.075.184</td>\n",
       "      <td>10.357</td>\n",
       "      <td>10.085.541</td>\n",
       "      <td>Jul-Sept 2021</td>\n",
       "    </tr>\n",
       "    <tr>\n",
       "      <th>3</th>\n",
       "      <td>2021</td>\n",
       "      <td>2</td>\n",
       "      <td>9.852.702</td>\n",
       "      <td>10.382</td>\n",
       "      <td>9.863.084</td>\n",
       "      <td>Abr-Jun 2021</td>\n",
       "    </tr>\n",
       "    <tr>\n",
       "      <th>4</th>\n",
       "      <td>2021</td>\n",
       "      <td>1</td>\n",
       "      <td>9.637.956</td>\n",
       "      <td>10.016</td>\n",
       "      <td>9.647.972</td>\n",
       "      <td>Ene-Mar 2021</td>\n",
       "    </tr>\n",
       "    <tr>\n",
       "      <th>5</th>\n",
       "      <td>2020</td>\n",
       "      <td>4</td>\n",
       "      <td>9.561.546</td>\n",
       "      <td>10.016</td>\n",
       "      <td>9.571.562</td>\n",
       "      <td>Oct-Dic 2020</td>\n",
       "    </tr>\n",
       "    <tr>\n",
       "      <th>6</th>\n",
       "      <td>2020</td>\n",
       "      <td>3</td>\n",
       "      <td>9.346.183</td>\n",
       "      <td>10.016</td>\n",
       "      <td>9.356.199</td>\n",
       "      <td>Jul-Sept 2020</td>\n",
       "    </tr>\n",
       "    <tr>\n",
       "      <th>7</th>\n",
       "      <td>2020</td>\n",
       "      <td>2</td>\n",
       "      <td>9.021.040</td>\n",
       "      <td>10.016</td>\n",
       "      <td>9.031.056</td>\n",
       "      <td>Abr-Jun 2020</td>\n",
       "    </tr>\n",
       "    <tr>\n",
       "      <th>8</th>\n",
       "      <td>2020</td>\n",
       "      <td>1</td>\n",
       "      <td>8.802.435</td>\n",
       "      <td>9.991</td>\n",
       "      <td>8.812.426</td>\n",
       "      <td>Ene-Mar 2020</td>\n",
       "    </tr>\n",
       "    <tr>\n",
       "      <th>9</th>\n",
       "      <td>2019</td>\n",
       "      <td>4</td>\n",
       "      <td>8.783.053</td>\n",
       "      <td>10.128</td>\n",
       "      <td>8.793.181</td>\n",
       "      <td>Oct-Dic 2019</td>\n",
       "    </tr>\n",
       "    <tr>\n",
       "      <th>10</th>\n",
       "      <td>2019</td>\n",
       "      <td>3</td>\n",
       "      <td>9.142.891</td>\n",
       "      <td>21.793</td>\n",
       "      <td>9.164.684</td>\n",
       "      <td>Jul-Sept 2019</td>\n",
       "    </tr>\n",
       "    <tr>\n",
       "      <th>11</th>\n",
       "      <td>2019</td>\n",
       "      <td>2</td>\n",
       "      <td>8.938.427</td>\n",
       "      <td>21.754</td>\n",
       "      <td>8.960.181</td>\n",
       "      <td>Abr-Jun 2019</td>\n",
       "    </tr>\n",
       "    <tr>\n",
       "      <th>12</th>\n",
       "      <td>2019</td>\n",
       "      <td>1</td>\n",
       "      <td>8.626.323</td>\n",
       "      <td>21.812</td>\n",
       "      <td>8.648.135</td>\n",
       "      <td>Ene-Mar 2019</td>\n",
       "    </tr>\n",
       "  </tbody>\n",
       "</table>\n",
       "</div>"
      ],
      "text/plain": [
       "     Año  Trimestre Banda ancha fija  Dial up       Total        Periodo\n",
       "0   2022          1       10.611.390   12.619  10.624.009   Ene-Mar 2022\n",
       "1   2021          4       10.476.933   12.861  10.489.794   Oct-Dic 2021\n",
       "2   2021          3       10.075.184   10.357  10.085.541  Jul-Sept 2021\n",
       "3   2021          2        9.852.702   10.382   9.863.084   Abr-Jun 2021\n",
       "4   2021          1        9.637.956   10.016   9.647.972   Ene-Mar 2021\n",
       "5   2020          4        9.561.546   10.016   9.571.562   Oct-Dic 2020\n",
       "6   2020          3        9.346.183   10.016   9.356.199  Jul-Sept 2020\n",
       "7   2020          2        9.021.040   10.016   9.031.056   Abr-Jun 2020\n",
       "8   2020          1        8.802.435    9.991   8.812.426   Ene-Mar 2020\n",
       "9   2019          4        8.783.053   10.128   8.793.181   Oct-Dic 2019\n",
       "10  2019          3        9.142.891   21.793   9.164.684  Jul-Sept 2019\n",
       "11  2019          2        8.938.427   21.754   8.960.181   Abr-Jun 2019\n",
       "12  2019          1        8.626.323   21.812   8.648.135   Ene-Mar 2019"
      ]
     },
     "execution_count": 101,
     "metadata": {},
     "output_type": "execute_result"
    }
   ],
   "source": [
    "\n",
    "internet_banda_ancha_angosta = pd.read_csv(\"D:/Melissa/Data Analitycs Enacom/Internet_nac_BAnch_BAng.csv\")\n",
    "\n",
    "internet_banda_ancha_angosta .head(13)"
   ]
  },
  {
   "attachments": {},
   "cell_type": "markdown",
   "metadata": {},
   "source": [
    "#### Revisamos por sí hay datos faltantes"
   ]
  },
  {
   "cell_type": "code",
   "execution_count": 102,
   "metadata": {},
   "outputs": [
    {
     "data": {
      "text/plain": [
       "Año                 0\n",
       "Trimestre           0\n",
       "Banda ancha fija    0\n",
       "Dial up             0\n",
       "Total               0\n",
       "Periodo             0\n",
       "dtype: int64"
      ]
     },
     "execution_count": 102,
     "metadata": {},
     "output_type": "execute_result"
    }
   ],
   "source": [
    "internet_banda_ancha_angosta .isnull().sum()"
   ]
  },
  {
   "attachments": {},
   "cell_type": "markdown",
   "metadata": {},
   "source": [
    "#### Revisamos los tipos de datos en las columnas"
   ]
  },
  {
   "cell_type": "code",
   "execution_count": 103,
   "metadata": {},
   "outputs": [
    {
     "name": "stdout",
     "output_type": "stream",
     "text": [
      "<class 'pandas.core.frame.DataFrame'>\n",
      "RangeIndex: 33 entries, 0 to 32\n",
      "Data columns (total 6 columns):\n",
      " #   Column            Non-Null Count  Dtype  \n",
      "---  ------            --------------  -----  \n",
      " 0   Año               33 non-null     int64  \n",
      " 1   Trimestre         33 non-null     int64  \n",
      " 2   Banda ancha fija  33 non-null     object \n",
      " 3   Dial up           33 non-null     float64\n",
      " 4   Total             33 non-null     object \n",
      " 5   Periodo           33 non-null     object \n",
      "dtypes: float64(1), int64(2), object(3)\n",
      "memory usage: 1.7+ KB\n"
     ]
    }
   ],
   "source": [
    "internet_banda_ancha_angosta .info()"
   ]
  },
  {
   "attachments": {},
   "cell_type": "markdown",
   "metadata": {},
   "source": [
    "#### Cambiamos el tipo de dato de la columna 'Banda ancha fija' de objeto a entero mediante una función lambda ya que representan data numérica."
   ]
  },
  {
   "cell_type": "code",
   "execution_count": 104,
   "metadata": {},
   "outputs": [
    {
     "name": "stdout",
     "output_type": "stream",
     "text": [
      "0     10611390\n",
      "1     10476933\n",
      "2     10075184\n",
      "3      9852702\n",
      "4      9637956\n",
      "5      9561546\n",
      "6      9346183\n",
      "7      9021040\n",
      "8      8802435\n",
      "9      8783053\n",
      "10     9142891\n",
      "11     8938427\n",
      "12     8626323\n",
      "13     8451841\n",
      "14     8320223\n",
      "15     8083533\n",
      "16     8009981\n",
      "17     7842778\n",
      "18     7696594\n",
      "19     7401134\n",
      "20     7277314\n",
      "21     7223128\n",
      "22     7178340\n",
      "23     7097604\n",
      "24     6874704\n",
      "25     6952289\n",
      "26     6902267\n",
      "27     6783279\n",
      "28     6699714\n",
      "29     6559172\n",
      "30     6559264\n",
      "31     6428329\n",
      "32     6362108\n",
      "Name: Banda ancha fija, dtype: int64\n"
     ]
    }
   ],
   "source": [
    "internet_banda_ancha_angosta['Banda ancha fija'] = internet_banda_ancha_angosta['Banda ancha fija'].apply(lambda x: int(x.split()[0].replace('.', '')))\n",
    "print (internet_banda_ancha_angosta['Banda ancha fija'])"
   ]
  },
  {
   "attachments": {},
   "cell_type": "markdown",
   "metadata": {},
   "source": [
    "#### Cambiamos el tipo de dato de la columna 'Dial up' (Banda Angosta) de float a entero mediante una función lambda ya que representan data numérica no porcentual."
   ]
  },
  {
   "cell_type": "code",
   "execution_count": 105,
   "metadata": {},
   "outputs": [
    {
     "name": "stdout",
     "output_type": "stream",
     "text": [
      "0     12619\n",
      "1     12861\n",
      "2     10357\n",
      "3     10382\n",
      "4     10016\n",
      "5     10016\n",
      "6     10016\n",
      "7     10016\n",
      "8      9991\n",
      "9     10128\n",
      "10    21793\n",
      "11    21754\n",
      "12    21812\n",
      "13    21814\n",
      "14    26812\n",
      "15    26911\n",
      "16    27072\n",
      "17    27444\n",
      "18    28349\n",
      "19     2853\n",
      "20     2854\n",
      "21    28545\n",
      "22     2861\n",
      "23    32475\n",
      "24    32652\n",
      "25    32542\n",
      "26    32801\n",
      "27    32909\n",
      "28    38018\n",
      "29    39324\n",
      "30    36007\n",
      "31    36139\n",
      "32     3629\n",
      "Name: Dial up, dtype: int64\n"
     ]
    }
   ],
   "source": [
    "internet_banda_ancha_angosta['Dial up'] = internet_banda_ancha_angosta['Dial up'].apply(lambda x: int(str(x).replace('.', '')))\n",
    "print (internet_banda_ancha_angosta['Dial up'])"
   ]
  },
  {
   "attachments": {},
   "cell_type": "markdown",
   "metadata": {},
   "source": [
    "#### Cambiamos el tipo de dato de la columna 'Total' de objeto a entero mediante una función lambda ya que representan data numérica."
   ]
  },
  {
   "cell_type": "code",
   "execution_count": 106,
   "metadata": {},
   "outputs": [
    {
     "name": "stdout",
     "output_type": "stream",
     "text": [
      "0     10624009\n",
      "1     10489794\n",
      "2     10085541\n",
      "3      9863084\n",
      "4      9647972\n",
      "5      9571562\n",
      "6      9356199\n",
      "7      9031056\n",
      "8      8812426\n",
      "9      8793181\n",
      "10     9164684\n",
      "11     8960181\n",
      "12     8648135\n",
      "13     8473655\n",
      "14     8347035\n",
      "15     8110444\n",
      "16     8037053\n",
      "17     7870222\n",
      "18     7724943\n",
      "19     7429664\n",
      "20     7305854\n",
      "21     7251673\n",
      "22     7206950\n",
      "23     7130079\n",
      "24     6907356\n",
      "25     6984831\n",
      "26     6935068\n",
      "27     6816188\n",
      "28     6737732\n",
      "29     6598496\n",
      "30     6595271\n",
      "31     6464468\n",
      "32     6398398\n",
      "Name: Total, dtype: int64\n"
     ]
    }
   ],
   "source": [
    "internet_banda_ancha_angosta['Total'] = internet_banda_ancha_angosta['Total'].apply(lambda x: int(x.split()[0].replace('.', '')))\n",
    "print (internet_banda_ancha_angosta['Total'])"
   ]
  },
  {
   "attachments": {},
   "cell_type": "markdown",
   "metadata": {},
   "source": [
    "#### Graficamos para observar mejor los datos."
   ]
  },
  {
   "attachments": {},
   "cell_type": "markdown",
   "metadata": {},
   "source": [
    "##### Observamos que el consumo de Banda Ancha ha crecido en los últimos años todo lo contrario a la Banda Angosta."
   ]
  },
  {
   "cell_type": "code",
   "execution_count": 141,
   "metadata": {},
   "outputs": [
    {
     "data": {
      "image/png": "[encoded data removed]",
      "text/plain": [
       "<Figure size 800x600 with 1 Axes>"
      ]
     },
     "metadata": {},
     "output_type": "display_data"
    }
   ],
   "source": [
    "plt.figure(figsize=(8, 6), dpi=100)\n",
    "\n",
    "plt.bar(internet_banda_ancha_angosta[\"Año\"], internet_banda_ancha_angosta[\"Banda ancha fija\"])\n",
    "plt.xticks(rotation=90)\n",
    "plt.yticks(rotation=0)\n",
    "plt.show()"
   ]
  },
  {
   "cell_type": "code",
   "execution_count": 108,
   "metadata": {},
   "outputs": [
    {
     "data": {
      "image/png": "[encoded data removed]",
      "text/plain": [
       "<Figure size 800x600 with 1 Axes>"
      ]
     },
     "metadata": {},
     "output_type": "display_data"
    }
   ],
   "source": [
    "plt.figure(figsize=(8, 6), dpi=100)\n",
    "plt.bar(internet_banda_ancha_angosta[\"Año\"], internet_banda_ancha_angosta[\"Dial up\"])\n",
    "plt.xticks(rotation=90)\n",
    "plt.yticks(rotation=0)\n",
    "plt.show()"
   ]
  },
  {
   "attachments": {},
   "cell_type": "markdown",
   "metadata": {},
   "source": [
    "#### Luego del respectivo análisis y transformación, lo convertimos a CSV."
   ]
  },
  {
   "cell_type": "code",
   "execution_count": 109,
   "metadata": {},
   "outputs": [],
   "source": [
    "internet_banda_ancha_angosta.to_csv('D:/Melissa/Data Analitycs Enacom/internetNac_banda_ancha_angosta.csv', index=False)"
   ]
  },
  {
   "attachments": {},
   "cell_type": "markdown",
   "metadata": {},
   "source": [
    "#### Accesos a banda ancha y banda angosta por provincia\n",
    "##### Número de accesos al servicio de Internet fijo por banda ancha y banda angosta en cada provincia (trimestral)"
   ]
  },
  {
   "cell_type": "code",
   "execution_count": 126,
   "metadata": {},
   "outputs": [
    {
     "data": {
      "text/html": [
       "<div>\n",
       "<style scoped>\n",
       "    .dataframe tbody tr th:only-of-type {\n",
       "        vertical-align: middle;\n",
       "    }\n",
       "\n",
       "    .dataframe tbody tr th {\n",
       "        vertical-align: top;\n",
       "    }\n",
       "\n",
       "    .dataframe thead th {\n",
       "        text-align: right;\n",
       "    }\n",
       "</style>\n",
       "<table border=\"1\" class=\"dataframe\">\n",
       "  <thead>\n",
       "    <tr style=\"text-align: right;\">\n",
       "      <th></th>\n",
       "      <th>Año</th>\n",
       "      <th>Trimestre</th>\n",
       "      <th>Provincia</th>\n",
       "      <th>Banda ancha fija</th>\n",
       "      <th>Dial up</th>\n",
       "      <th>Total</th>\n",
       "    </tr>\n",
       "  </thead>\n",
       "  <tbody>\n",
       "    <tr>\n",
       "      <th>0</th>\n",
       "      <td>2022</td>\n",
       "      <td>1</td>\n",
       "      <td>Buenos Aires</td>\n",
       "      <td>4.549.131</td>\n",
       "      <td>6.293</td>\n",
       "      <td>4.555.424</td>\n",
       "    </tr>\n",
       "    <tr>\n",
       "      <th>1</th>\n",
       "      <td>2022</td>\n",
       "      <td>1</td>\n",
       "      <td>Capital Federal</td>\n",
       "      <td>1.415.378</td>\n",
       "      <td>2.163</td>\n",
       "      <td>1.417.541</td>\n",
       "    </tr>\n",
       "    <tr>\n",
       "      <th>2</th>\n",
       "      <td>2022</td>\n",
       "      <td>1</td>\n",
       "      <td>Catamarca</td>\n",
       "      <td>62.377</td>\n",
       "      <td>1</td>\n",
       "      <td>62.378</td>\n",
       "    </tr>\n",
       "    <tr>\n",
       "      <th>3</th>\n",
       "      <td>2022</td>\n",
       "      <td>1</td>\n",
       "      <td>Chaco</td>\n",
       "      <td>144.114</td>\n",
       "      <td>5</td>\n",
       "      <td>144.119</td>\n",
       "    </tr>\n",
       "    <tr>\n",
       "      <th>4</th>\n",
       "      <td>2022</td>\n",
       "      <td>1</td>\n",
       "      <td>Chubut</td>\n",
       "      <td>170.701</td>\n",
       "      <td>927</td>\n",
       "      <td>171.628</td>\n",
       "    </tr>\n",
       "    <tr>\n",
       "      <th>5</th>\n",
       "      <td>2022</td>\n",
       "      <td>1</td>\n",
       "      <td>Córdoba</td>\n",
       "      <td>1.003.729</td>\n",
       "      <td>74</td>\n",
       "      <td>1.003.803</td>\n",
       "    </tr>\n",
       "    <tr>\n",
       "      <th>6</th>\n",
       "      <td>2022</td>\n",
       "      <td>1</td>\n",
       "      <td>Corrientes</td>\n",
       "      <td>142.574</td>\n",
       "      <td>4</td>\n",
       "      <td>142.578</td>\n",
       "    </tr>\n",
       "    <tr>\n",
       "      <th>7</th>\n",
       "      <td>2022</td>\n",
       "      <td>1</td>\n",
       "      <td>Entre Ríos</td>\n",
       "      <td>267.904</td>\n",
       "      <td>22</td>\n",
       "      <td>267.926</td>\n",
       "    </tr>\n",
       "    <tr>\n",
       "      <th>8</th>\n",
       "      <td>2022</td>\n",
       "      <td>1</td>\n",
       "      <td>Formosa</td>\n",
       "      <td>54.548</td>\n",
       "      <td>0</td>\n",
       "      <td>54.548</td>\n",
       "    </tr>\n",
       "    <tr>\n",
       "      <th>9</th>\n",
       "      <td>2022</td>\n",
       "      <td>1</td>\n",
       "      <td>Jujuy</td>\n",
       "      <td>116.509</td>\n",
       "      <td>0</td>\n",
       "      <td>116.509</td>\n",
       "    </tr>\n",
       "    <tr>\n",
       "      <th>10</th>\n",
       "      <td>2022</td>\n",
       "      <td>1</td>\n",
       "      <td>La Pampa</td>\n",
       "      <td>109.560</td>\n",
       "      <td>172</td>\n",
       "      <td>109.732</td>\n",
       "    </tr>\n",
       "    <tr>\n",
       "      <th>11</th>\n",
       "      <td>2022</td>\n",
       "      <td>1</td>\n",
       "      <td>La Rioja</td>\n",
       "      <td>84.299</td>\n",
       "      <td>4</td>\n",
       "      <td>84.303</td>\n",
       "    </tr>\n",
       "  </tbody>\n",
       "</table>\n",
       "</div>"
      ],
      "text/plain": [
       "     Año  Trimestre        Provincia Banda ancha fija Dial up      Total\n",
       "0   2022          1     Buenos Aires        4.549.131   6.293  4.555.424\n",
       "1   2022          1  Capital Federal        1.415.378   2.163  1.417.541\n",
       "2   2022          1        Catamarca           62.377       1     62.378\n",
       "3   2022          1            Chaco          144.114       5    144.119\n",
       "4   2022          1           Chubut          170.701     927    171.628\n",
       "5   2022          1          Córdoba        1.003.729      74  1.003.803\n",
       "6   2022          1       Corrientes          142.574       4    142.578\n",
       "7   2022          1       Entre Ríos          267.904      22    267.926\n",
       "8   2022          1          Formosa           54.548       0     54.548\n",
       "9   2022          1            Jujuy          116.509       0    116.509\n",
       "10  2022          1         La Pampa          109.560     172    109.732\n",
       "11  2022          1         La Rioja           84.299       4     84.303"
      ]
     },
     "execution_count": 126,
     "metadata": {},
     "output_type": "execute_result"
    }
   ],
   "source": [
    "\n",
    "BAncha_angosta_provincia = pd.read_csv(\"D:/Melissa/Data Analitycs Enacom/Internet_BAnch_BAngxProv.csv\")\n",
    "\n",
    "BAncha_angosta_provincia.head(12)"
   ]
  },
  {
   "attachments": {},
   "cell_type": "markdown",
   "metadata": {},
   "source": [
    "#### Revisamos los nulos"
   ]
  },
  {
   "cell_type": "code",
   "execution_count": 127,
   "metadata": {},
   "outputs": [
    {
     "data": {
      "text/plain": [
       "Año                 0\n",
       "Trimestre           0\n",
       "Provincia           0\n",
       "Banda ancha fija    0\n",
       "Dial up             2\n",
       "Total               0\n",
       "dtype: int64"
      ]
     },
     "execution_count": 127,
     "metadata": {},
     "output_type": "execute_result"
    }
   ],
   "source": [
    "BAncha_angosta_provincia.isnull().sum()"
   ]
  },
  {
   "attachments": {},
   "cell_type": "markdown",
   "metadata": {},
   "source": [
    "#### Trabajamos los nulos"
   ]
  },
  {
   "attachments": {},
   "cell_type": "markdown",
   "metadata": {},
   "source": [
    "##### Reemplazo los datos nulos por ceros ya que se concluye que al sumar \"Banda ancha fija\" + \"Dial up\" nos da \"Total\". Los datos faltantes de esas filas en \"Dial up\" se concluye son 0.\n"
   ]
  },
  {
   "cell_type": "code",
   "execution_count": 128,
   "metadata": {},
   "outputs": [
    {
     "data": {
      "text/html": [
       "<div>\n",
       "<style scoped>\n",
       "    .dataframe tbody tr th:only-of-type {\n",
       "        vertical-align: middle;\n",
       "    }\n",
       "\n",
       "    .dataframe tbody tr th {\n",
       "        vertical-align: top;\n",
       "    }\n",
       "\n",
       "    .dataframe thead th {\n",
       "        text-align: right;\n",
       "    }\n",
       "</style>\n",
       "<table border=\"1\" class=\"dataframe\">\n",
       "  <thead>\n",
       "    <tr style=\"text-align: right;\">\n",
       "      <th></th>\n",
       "      <th>Año</th>\n",
       "      <th>Trimestre</th>\n",
       "      <th>Provincia</th>\n",
       "      <th>Banda ancha fija</th>\n",
       "      <th>Dial up</th>\n",
       "      <th>Total</th>\n",
       "    </tr>\n",
       "  </thead>\n",
       "  <tbody>\n",
       "    <tr>\n",
       "      <th>365</th>\n",
       "      <td>2018</td>\n",
       "      <td>2</td>\n",
       "      <td>Córdoba</td>\n",
       "      <td>712.979</td>\n",
       "      <td>94</td>\n",
       "      <td>713.073</td>\n",
       "    </tr>\n",
       "    <tr>\n",
       "      <th>366</th>\n",
       "      <td>2018</td>\n",
       "      <td>2</td>\n",
       "      <td>Corrientes</td>\n",
       "      <td>97.946</td>\n",
       "      <td>11</td>\n",
       "      <td>97.957</td>\n",
       "    </tr>\n",
       "    <tr>\n",
       "      <th>367</th>\n",
       "      <td>2018</td>\n",
       "      <td>2</td>\n",
       "      <td>Entre Ríos</td>\n",
       "      <td>199.937</td>\n",
       "      <td>48</td>\n",
       "      <td>199.985</td>\n",
       "    </tr>\n",
       "    <tr>\n",
       "      <th>368</th>\n",
       "      <td>2018</td>\n",
       "      <td>2</td>\n",
       "      <td>Formosa</td>\n",
       "      <td>44.554</td>\n",
       "      <td>NaN</td>\n",
       "      <td>44.554</td>\n",
       "    </tr>\n",
       "    <tr>\n",
       "      <th>369</th>\n",
       "      <td>2018</td>\n",
       "      <td>2</td>\n",
       "      <td>Jujuy</td>\n",
       "      <td>45.132</td>\n",
       "      <td>1</td>\n",
       "      <td>45.133</td>\n",
       "    </tr>\n",
       "    <tr>\n",
       "      <th>370</th>\n",
       "      <td>2018</td>\n",
       "      <td>2</td>\n",
       "      <td>La Pampa</td>\n",
       "      <td>82.177</td>\n",
       "      <td>244</td>\n",
       "      <td>82.421</td>\n",
       "    </tr>\n",
       "    <tr>\n",
       "      <th>371</th>\n",
       "      <td>2018</td>\n",
       "      <td>2</td>\n",
       "      <td>La Rioja</td>\n",
       "      <td>51.931</td>\n",
       "      <td>17</td>\n",
       "      <td>51.948</td>\n",
       "    </tr>\n",
       "    <tr>\n",
       "      <th>372</th>\n",
       "      <td>2018</td>\n",
       "      <td>2</td>\n",
       "      <td>Mendoza</td>\n",
       "      <td>199.468</td>\n",
       "      <td>1.484</td>\n",
       "      <td>200.952</td>\n",
       "    </tr>\n",
       "    <tr>\n",
       "      <th>373</th>\n",
       "      <td>2018</td>\n",
       "      <td>2</td>\n",
       "      <td>Misiones</td>\n",
       "      <td>106.147</td>\n",
       "      <td>NaN</td>\n",
       "      <td>106.147</td>\n",
       "    </tr>\n",
       "    <tr>\n",
       "      <th>374</th>\n",
       "      <td>2018</td>\n",
       "      <td>2</td>\n",
       "      <td>Neuquén</td>\n",
       "      <td>113.842</td>\n",
       "      <td>2.006</td>\n",
       "      <td>115.848</td>\n",
       "    </tr>\n",
       "  </tbody>\n",
       "</table>\n",
       "</div>"
      ],
      "text/plain": [
       "      Año  Trimestre   Provincia Banda ancha fija Dial up    Total\n",
       "365  2018          2     Córdoba          712.979      94  713.073\n",
       "366  2018          2  Corrientes           97.946      11   97.957\n",
       "367  2018          2  Entre Ríos          199.937      48  199.985\n",
       "368  2018          2     Formosa           44.554     NaN   44.554\n",
       "369  2018          2       Jujuy           45.132       1   45.133\n",
       "370  2018          2    La Pampa           82.177     244   82.421\n",
       "371  2018          2    La Rioja           51.931      17   51.948\n",
       "372  2018          2     Mendoza          199.468   1.484  200.952\n",
       "373  2018          2    Misiones          106.147     NaN  106.147\n",
       "374  2018          2     Neuquén          113.842   2.006  115.848"
      ]
     },
     "execution_count": 128,
     "metadata": {},
     "output_type": "execute_result"
    }
   ],
   "source": [
    "BAncha_angosta_provincia[365:375]"
   ]
  },
  {
   "cell_type": "code",
   "execution_count": 129,
   "metadata": {},
   "outputs": [
    {
     "data": {
      "text/html": [
       "<div>\n",
       "<style scoped>\n",
       "    .dataframe tbody tr th:only-of-type {\n",
       "        vertical-align: middle;\n",
       "    }\n",
       "\n",
       "    .dataframe tbody tr th {\n",
       "        vertical-align: top;\n",
       "    }\n",
       "\n",
       "    .dataframe thead th {\n",
       "        text-align: right;\n",
       "    }\n",
       "</style>\n",
       "<table border=\"1\" class=\"dataframe\">\n",
       "  <thead>\n",
       "    <tr style=\"text-align: right;\">\n",
       "      <th></th>\n",
       "      <th>Año</th>\n",
       "      <th>Trimestre</th>\n",
       "      <th>Provincia</th>\n",
       "      <th>Banda ancha fija</th>\n",
       "      <th>Dial up</th>\n",
       "      <th>Total</th>\n",
       "    </tr>\n",
       "  </thead>\n",
       "  <tbody>\n",
       "    <tr>\n",
       "      <th>365</th>\n",
       "      <td>2018</td>\n",
       "      <td>2</td>\n",
       "      <td>Córdoba</td>\n",
       "      <td>712.979</td>\n",
       "      <td>94</td>\n",
       "      <td>713.073</td>\n",
       "    </tr>\n",
       "    <tr>\n",
       "      <th>366</th>\n",
       "      <td>2018</td>\n",
       "      <td>2</td>\n",
       "      <td>Corrientes</td>\n",
       "      <td>97.946</td>\n",
       "      <td>11</td>\n",
       "      <td>97.957</td>\n",
       "    </tr>\n",
       "    <tr>\n",
       "      <th>367</th>\n",
       "      <td>2018</td>\n",
       "      <td>2</td>\n",
       "      <td>Entre Ríos</td>\n",
       "      <td>199.937</td>\n",
       "      <td>48</td>\n",
       "      <td>199.985</td>\n",
       "    </tr>\n",
       "    <tr>\n",
       "      <th>368</th>\n",
       "      <td>2018</td>\n",
       "      <td>2</td>\n",
       "      <td>Formosa</td>\n",
       "      <td>44.554</td>\n",
       "      <td>0</td>\n",
       "      <td>44.554</td>\n",
       "    </tr>\n",
       "    <tr>\n",
       "      <th>369</th>\n",
       "      <td>2018</td>\n",
       "      <td>2</td>\n",
       "      <td>Jujuy</td>\n",
       "      <td>45.132</td>\n",
       "      <td>1</td>\n",
       "      <td>45.133</td>\n",
       "    </tr>\n",
       "    <tr>\n",
       "      <th>370</th>\n",
       "      <td>2018</td>\n",
       "      <td>2</td>\n",
       "      <td>La Pampa</td>\n",
       "      <td>82.177</td>\n",
       "      <td>244</td>\n",
       "      <td>82.421</td>\n",
       "    </tr>\n",
       "    <tr>\n",
       "      <th>371</th>\n",
       "      <td>2018</td>\n",
       "      <td>2</td>\n",
       "      <td>La Rioja</td>\n",
       "      <td>51.931</td>\n",
       "      <td>17</td>\n",
       "      <td>51.948</td>\n",
       "    </tr>\n",
       "    <tr>\n",
       "      <th>372</th>\n",
       "      <td>2018</td>\n",
       "      <td>2</td>\n",
       "      <td>Mendoza</td>\n",
       "      <td>199.468</td>\n",
       "      <td>1.484</td>\n",
       "      <td>200.952</td>\n",
       "    </tr>\n",
       "    <tr>\n",
       "      <th>373</th>\n",
       "      <td>2018</td>\n",
       "      <td>2</td>\n",
       "      <td>Misiones</td>\n",
       "      <td>106.147</td>\n",
       "      <td>0</td>\n",
       "      <td>106.147</td>\n",
       "    </tr>\n",
       "    <tr>\n",
       "      <th>374</th>\n",
       "      <td>2018</td>\n",
       "      <td>2</td>\n",
       "      <td>Neuquén</td>\n",
       "      <td>113.842</td>\n",
       "      <td>2.006</td>\n",
       "      <td>115.848</td>\n",
       "    </tr>\n",
       "  </tbody>\n",
       "</table>\n",
       "</div>"
      ],
      "text/plain": [
       "      Año  Trimestre   Provincia Banda ancha fija Dial up    Total\n",
       "365  2018          2     Córdoba          712.979      94  713.073\n",
       "366  2018          2  Corrientes           97.946      11   97.957\n",
       "367  2018          2  Entre Ríos          199.937      48  199.985\n",
       "368  2018          2     Formosa           44.554       0   44.554\n",
       "369  2018          2       Jujuy           45.132       1   45.133\n",
       "370  2018          2    La Pampa           82.177     244   82.421\n",
       "371  2018          2    La Rioja           51.931      17   51.948\n",
       "372  2018          2     Mendoza          199.468   1.484  200.952\n",
       "373  2018          2    Misiones          106.147       0  106.147\n",
       "374  2018          2     Neuquén          113.842   2.006  115.848"
      ]
     },
     "execution_count": 129,
     "metadata": {},
     "output_type": "execute_result"
    }
   ],
   "source": [
    "BAncha_angosta_provincia = BAncha_angosta_provincia.fillna(0)\n",
    "BAncha_angosta_provincia[365:375]"
   ]
  },
  {
   "attachments": {},
   "cell_type": "markdown",
   "metadata": {},
   "source": [
    "#### Revisamos los tipos de datos "
   ]
  },
  {
   "cell_type": "code",
   "execution_count": 130,
   "metadata": {},
   "outputs": [
    {
     "name": "stdout",
     "output_type": "stream",
     "text": [
      "<class 'pandas.core.frame.DataFrame'>\n",
      "RangeIndex: 792 entries, 0 to 791\n",
      "Data columns (total 6 columns):\n",
      " #   Column            Non-Null Count  Dtype \n",
      "---  ------            --------------  ----- \n",
      " 0   Año               792 non-null    int64 \n",
      " 1   Trimestre         792 non-null    int64 \n",
      " 2   Provincia         792 non-null    object\n",
      " 3   Banda ancha fija  792 non-null    object\n",
      " 4   Dial up           792 non-null    object\n",
      " 5   Total             792 non-null    object\n",
      "dtypes: int64(2), object(4)\n",
      "memory usage: 37.2+ KB\n"
     ]
    }
   ],
   "source": [
    "BAncha_angosta_provincia.info()"
   ]
  },
  {
   "attachments": {},
   "cell_type": "markdown",
   "metadata": {},
   "source": [
    "#### Observamos que debemos cambiar el tipo de dato a las columnas \"Banda ancha fija\", \"Dial up\" y \"Total\" de object a entero."
   ]
  },
  {
   "cell_type": "code",
   "execution_count": 131,
   "metadata": {},
   "outputs": [
    {
     "name": "stdout",
     "output_type": "stream",
     "text": [
      "0      4549131\n",
      "1      1415378\n",
      "2        62377\n",
      "3       144114\n",
      "4       170701\n",
      "        ...   \n",
      "787      26304\n",
      "788     506000\n",
      "789      37124\n",
      "790      27272\n",
      "791     129944\n",
      "Name: Banda ancha fija, Length: 792, dtype: int64\n"
     ]
    }
   ],
   "source": [
    "BAncha_angosta_provincia['Banda ancha fija'] = BAncha_angosta_provincia['Banda ancha fija'].apply(lambda x: int(x.split()[0].replace('.', '')))\n",
    "print (BAncha_angosta_provincia['Banda ancha fija'])"
   ]
  },
  {
   "attachments": {},
   "cell_type": "markdown",
   "metadata": {},
   "source": [
    "##### En \"Dial up\" en contramos datos como \"-0\" al cual le quitaremos el simbolo \"-\" para poder trabajar"
   ]
  },
  {
   "cell_type": "code",
   "execution_count": 132,
   "metadata": {},
   "outputs": [
    {
     "name": "stdout",
     "output_type": "stream",
     "text": [
      "0      6.293\n",
      "1      2.163\n",
      "2          1\n",
      "3          5\n",
      "4        927\n",
      "       ...  \n",
      "787      460\n",
      "788      612\n",
      "789        9\n",
      "790      766\n",
      "791       88\n",
      "Name: Dial up, Length: 792, dtype: object\n"
     ]
    }
   ],
   "source": [
    "BAncha_angosta_provincia['Dial up'] = BAncha_angosta_provincia['Dial up'].apply(lambda x: (str(x).replace('-', '')))\n",
    "print (BAncha_angosta_provincia['Dial up'])"
   ]
  },
  {
   "attachments": {},
   "cell_type": "markdown",
   "metadata": {},
   "source": [
    "##### aquí ya podemos convertir el dato a entero."
   ]
  },
  {
   "cell_type": "code",
   "execution_count": 133,
   "metadata": {},
   "outputs": [
    {
     "name": "stdout",
     "output_type": "stream",
     "text": [
      "0      6293\n",
      "1      2163\n",
      "2         1\n",
      "3         5\n",
      "4       927\n",
      "       ... \n",
      "787     460\n",
      "788     612\n",
      "789       9\n",
      "790     766\n",
      "791      88\n",
      "Name: Dial up, Length: 792, dtype: int64\n"
     ]
    }
   ],
   "source": [
    "BAncha_angosta_provincia['Dial up'] = BAncha_angosta_provincia['Dial up'].apply(lambda x: int(str(x).replace('.', '')))\n",
    "print (BAncha_angosta_provincia['Dial up'])"
   ]
  },
  {
   "cell_type": "code",
   "execution_count": 134,
   "metadata": {},
   "outputs": [
    {
     "name": "stdout",
     "output_type": "stream",
     "text": [
      "0      4555424\n",
      "1      1417541\n",
      "2        62378\n",
      "3       144119\n",
      "4       171628\n",
      "        ...   \n",
      "787      26764\n",
      "788     506612\n",
      "789      37133\n",
      "790      28038\n",
      "791     130032\n",
      "Name: Total, Length: 792, dtype: int64\n"
     ]
    }
   ],
   "source": [
    "BAncha_angosta_provincia['Total'] = BAncha_angosta_provincia['Total'].apply(lambda x: int(x.split()[0].replace('.', '')))\n",
    "print (BAncha_angosta_provincia['Total'])"
   ]
  },
  {
   "attachments": {},
   "cell_type": "markdown",
   "metadata": {},
   "source": [
    "#### Luego del respectivo análisis y transformación, lo convertimos a CSV."
   ]
  },
  {
   "cell_type": "code",
   "execution_count": 135,
   "metadata": {},
   "outputs": [],
   "source": [
    "BAncha_angosta_provincia.to_csv('D:/Melissa/Data Analitycs Enacom/BAncha_angosta_provincia.csv', index=False)"
   ]
  },
  {
   "attachments": {},
   "cell_type": "markdown",
   "metadata": {},
   "source": [
    "#### Ingresos trimestrales por la prestación del servicio de Internet fijo\n",
    "##### Ingresos trimestrales de los operadores por el servicio de Internet fijo"
   ]
  },
  {
   "cell_type": "code",
   "execution_count": 136,
   "metadata": {},
   "outputs": [
    {
     "data": {
      "text/html": [
       "<div>\n",
       "<style scoped>\n",
       "    .dataframe tbody tr th:only-of-type {\n",
       "        vertical-align: middle;\n",
       "    }\n",
       "\n",
       "    .dataframe tbody tr th {\n",
       "        vertical-align: top;\n",
       "    }\n",
       "\n",
       "    .dataframe thead th {\n",
       "        text-align: right;\n",
       "    }\n",
       "</style>\n",
       "<table border=\"1\" class=\"dataframe\">\n",
       "  <thead>\n",
       "    <tr style=\"text-align: right;\">\n",
       "      <th></th>\n",
       "      <th>Año</th>\n",
       "      <th>Trimestre</th>\n",
       "      <th>Ingresos (miles de pesos)</th>\n",
       "      <th>Periodo</th>\n",
       "    </tr>\n",
       "  </thead>\n",
       "  <tbody>\n",
       "    <tr>\n",
       "      <th>0</th>\n",
       "      <td>2022</td>\n",
       "      <td>1</td>\n",
       "      <td>51.432.896</td>\n",
       "      <td>Ene-Mar 2022</td>\n",
       "    </tr>\n",
       "    <tr>\n",
       "      <th>1</th>\n",
       "      <td>2021</td>\n",
       "      <td>4</td>\n",
       "      <td>45.467.887</td>\n",
       "      <td>Oct-Dic 2021</td>\n",
       "    </tr>\n",
       "    <tr>\n",
       "      <th>2</th>\n",
       "      <td>2021</td>\n",
       "      <td>3</td>\n",
       "      <td>42.999.944</td>\n",
       "      <td>Jul-Sept 2021</td>\n",
       "    </tr>\n",
       "    <tr>\n",
       "      <th>3</th>\n",
       "      <td>2021</td>\n",
       "      <td>2</td>\n",
       "      <td>38.239.667</td>\n",
       "      <td>Abr-Jun 2021</td>\n",
       "    </tr>\n",
       "    <tr>\n",
       "      <th>4</th>\n",
       "      <td>2021</td>\n",
       "      <td>1</td>\n",
       "      <td>36.676.371</td>\n",
       "      <td>Ene-Mar 2021</td>\n",
       "    </tr>\n",
       "    <tr>\n",
       "      <th>5</th>\n",
       "      <td>2020</td>\n",
       "      <td>4</td>\n",
       "      <td>33.539.703</td>\n",
       "      <td>Oct-Dic 2020</td>\n",
       "    </tr>\n",
       "    <tr>\n",
       "      <th>6</th>\n",
       "      <td>2020</td>\n",
       "      <td>3</td>\n",
       "      <td>31.997.445</td>\n",
       "      <td>Jul-Sept 2020</td>\n",
       "    </tr>\n",
       "    <tr>\n",
       "      <th>7</th>\n",
       "      <td>2020</td>\n",
       "      <td>2</td>\n",
       "      <td>32.102.476</td>\n",
       "      <td>Abr-Jun 2020</td>\n",
       "    </tr>\n",
       "    <tr>\n",
       "      <th>8</th>\n",
       "      <td>2020</td>\n",
       "      <td>1</td>\n",
       "      <td>29.946.216</td>\n",
       "      <td>Ene-Mar 2020</td>\n",
       "    </tr>\n",
       "    <tr>\n",
       "      <th>9</th>\n",
       "      <td>2019</td>\n",
       "      <td>4</td>\n",
       "      <td>24.169.251</td>\n",
       "      <td>Oct-Dic 2019</td>\n",
       "    </tr>\n",
       "    <tr>\n",
       "      <th>10</th>\n",
       "      <td>2019</td>\n",
       "      <td>3</td>\n",
       "      <td>21.652.748</td>\n",
       "      <td>Jul-Sept 2019</td>\n",
       "    </tr>\n",
       "    <tr>\n",
       "      <th>11</th>\n",
       "      <td>2019</td>\n",
       "      <td>2</td>\n",
       "      <td>20.743.118</td>\n",
       "      <td>Abr-Jun 2019</td>\n",
       "    </tr>\n",
       "    <tr>\n",
       "      <th>12</th>\n",
       "      <td>2019</td>\n",
       "      <td>1</td>\n",
       "      <td>20.207.414</td>\n",
       "      <td>Ene-Mar 2019</td>\n",
       "    </tr>\n",
       "    <tr>\n",
       "      <th>13</th>\n",
       "      <td>2018</td>\n",
       "      <td>4</td>\n",
       "      <td>16.637.687</td>\n",
       "      <td>Oct-Dic 2018</td>\n",
       "    </tr>\n",
       "    <tr>\n",
       "      <th>14</th>\n",
       "      <td>2018</td>\n",
       "      <td>3</td>\n",
       "      <td>15.410.981</td>\n",
       "      <td>Jul-Sept 2018</td>\n",
       "    </tr>\n",
       "    <tr>\n",
       "      <th>15</th>\n",
       "      <td>2018</td>\n",
       "      <td>2</td>\n",
       "      <td>14.319.467</td>\n",
       "      <td>Abr-Jun 2018</td>\n",
       "    </tr>\n",
       "    <tr>\n",
       "      <th>16</th>\n",
       "      <td>2018</td>\n",
       "      <td>1</td>\n",
       "      <td>13.171.459</td>\n",
       "      <td>Ene-Mar 2018</td>\n",
       "    </tr>\n",
       "    <tr>\n",
       "      <th>17</th>\n",
       "      <td>2017</td>\n",
       "      <td>4</td>\n",
       "      <td>11.226.127</td>\n",
       "      <td>Oct-Dic 2017</td>\n",
       "    </tr>\n",
       "    <tr>\n",
       "      <th>18</th>\n",
       "      <td>2017</td>\n",
       "      <td>3</td>\n",
       "      <td>10.065.998</td>\n",
       "      <td>Jul-Sept 2017</td>\n",
       "    </tr>\n",
       "    <tr>\n",
       "      <th>19</th>\n",
       "      <td>2017</td>\n",
       "      <td>2</td>\n",
       "      <td>9.678.647</td>\n",
       "      <td>Abr-Jun 2017</td>\n",
       "    </tr>\n",
       "    <tr>\n",
       "      <th>20</th>\n",
       "      <td>2017</td>\n",
       "      <td>1</td>\n",
       "      <td>8.701.201</td>\n",
       "      <td>Ene-Mar 2017</td>\n",
       "    </tr>\n",
       "    <tr>\n",
       "      <th>21</th>\n",
       "      <td>2016</td>\n",
       "      <td>4</td>\n",
       "      <td>7.483.980</td>\n",
       "      <td>Oct-Dic 2016</td>\n",
       "    </tr>\n",
       "  </tbody>\n",
       "</table>\n",
       "</div>"
      ],
      "text/plain": [
       "     Año  Trimestre Ingresos (miles de pesos)        Periodo\n",
       "0   2022          1                51.432.896   Ene-Mar 2022\n",
       "1   2021          4                45.467.887   Oct-Dic 2021\n",
       "2   2021          3                42.999.944  Jul-Sept 2021\n",
       "3   2021          2                38.239.667   Abr-Jun 2021\n",
       "4   2021          1                36.676.371   Ene-Mar 2021\n",
       "5   2020          4                33.539.703   Oct-Dic 2020\n",
       "6   2020          3                31.997.445  Jul-Sept 2020\n",
       "7   2020          2                32.102.476   Abr-Jun 2020\n",
       "8   2020          1                29.946.216   Ene-Mar 2020\n",
       "9   2019          4                24.169.251   Oct-Dic 2019\n",
       "10  2019          3                21.652.748  Jul-Sept 2019\n",
       "11  2019          2                20.743.118   Abr-Jun 2019\n",
       "12  2019          1                20.207.414   Ene-Mar 2019\n",
       "13  2018          4                16.637.687   Oct-Dic 2018\n",
       "14  2018          3                15.410.981  Jul-Sept 2018\n",
       "15  2018          2                14.319.467   Abr-Jun 2018\n",
       "16  2018          1                13.171.459   Ene-Mar 2018\n",
       "17  2017          4                11.226.127   Oct-Dic 2017\n",
       "18  2017          3                10.065.998  Jul-Sept 2017\n",
       "19  2017          2                 9.678.647   Abr-Jun 2017\n",
       "20  2017          1                 8.701.201   Ene-Mar 2017\n",
       "21  2016          4                 7.483.980   Oct-Dic 2016"
      ]
     },
     "execution_count": 136,
     "metadata": {},
     "output_type": "execute_result"
    }
   ],
   "source": [
    "ingresos_internet_fijo = pd.read_csv(\"D:/Melissa/Data Analitycs Enacom/Internet_Ingresos.csv\")\n",
    "ingresos_internet_fijo.head(22)"
   ]
  },
  {
   "attachments": {},
   "cell_type": "markdown",
   "metadata": {},
   "source": [
    "#### Observamos sí hay nulos"
   ]
  },
  {
   "cell_type": "code",
   "execution_count": 137,
   "metadata": {},
   "outputs": [
    {
     "data": {
      "text/plain": [
       "Año                          0\n",
       "Trimestre                    0\n",
       "Ingresos (miles de pesos)    0\n",
       "Periodo                      0\n",
       "dtype: int64"
      ]
     },
     "execution_count": 137,
     "metadata": {},
     "output_type": "execute_result"
    }
   ],
   "source": [
    "ingresos_internet_fijo.isnull().sum()"
   ]
  },
  {
   "attachments": {},
   "cell_type": "markdown",
   "metadata": {},
   "source": [
    "#### Observamos los tipos de datos"
   ]
  },
  {
   "cell_type": "code",
   "execution_count": 138,
   "metadata": {},
   "outputs": [
    {
     "name": "stdout",
     "output_type": "stream",
     "text": [
      "<class 'pandas.core.frame.DataFrame'>\n",
      "RangeIndex: 33 entries, 0 to 32\n",
      "Data columns (total 4 columns):\n",
      " #   Column                     Non-Null Count  Dtype \n",
      "---  ------                     --------------  ----- \n",
      " 0   Año                        33 non-null     int64 \n",
      " 1   Trimestre                  33 non-null     int64 \n",
      " 2   Ingresos (miles de pesos)  33 non-null     object\n",
      " 3   Periodo                    33 non-null     object\n",
      "dtypes: int64(2), object(2)\n",
      "memory usage: 1.2+ KB\n"
     ]
    }
   ],
   "source": [
    "ingresos_internet_fijo.info()"
   ]
  },
  {
   "attachments": {},
   "cell_type": "markdown",
   "metadata": {},
   "source": [
    "#### Cambiamos el tipo de dato en la columna \"Ingresos (miles de pesos)\" que nos proporciona data numérica. De tipo object a entero."
   ]
  },
  {
   "cell_type": "code",
   "execution_count": 139,
   "metadata": {},
   "outputs": [
    {
     "name": "stdout",
     "output_type": "stream",
     "text": [
      "0     51432896\n",
      "1     45467887\n",
      "2     42999944\n",
      "3     38239667\n",
      "4     36676371\n",
      "5     33539703\n",
      "6     31997445\n",
      "7     32102476\n",
      "8     29946216\n",
      "9     24169251\n",
      "10    21652748\n",
      "11    20743118\n",
      "12    20207414\n",
      "13    16637687\n",
      "14    15410981\n",
      "15    14319467\n",
      "16    13171459\n",
      "17    11226127\n",
      "18    10065998\n",
      "19     9678647\n",
      "20     8701201\n",
      "21     7483980\n",
      "22     6912442\n",
      "23     6534241\n",
      "24     5936845\n",
      "25     5376899\n",
      "26     5153739\n",
      "27     4701791\n",
      "28     4876385\n",
      "29     3950441\n",
      "30     3478638\n",
      "31     3270816\n",
      "32     2984054\n",
      "Name: Ingresos (miles de pesos), dtype: int64\n"
     ]
    }
   ],
   "source": [
    "ingresos_internet_fijo['Ingresos (miles de pesos)'] = ingresos_internet_fijo['Ingresos (miles de pesos)'].apply(lambda x: int(x.split()[0].replace('.', '')))\n",
    "print (ingresos_internet_fijo['Ingresos (miles de pesos)'])"
   ]
  },
  {
   "attachments": {},
   "cell_type": "markdown",
   "metadata": {},
   "source": [
    "#### Observamos graficando que han incrementado los ingresos año a año."
   ]
  },
  {
   "cell_type": "code",
   "execution_count": 124,
   "metadata": {},
   "outputs": [
    {
     "data": {
      "image/png": "[encoded data removed]",
      "text/plain": [
       "<Figure size 800x600 with 1 Axes>"
      ]
     },
     "metadata": {},
     "output_type": "display_data"
    }
   ],
   "source": [
    "plt.figure(figsize=(8, 6), dpi=100)\n",
    "plt.bar(ingresos_internet_fijo[\"Año\"], ingresos_internet_fijo['Ingresos (miles de pesos)'])\n",
    "plt.xticks(rotation=90)\n",
    "plt.yticks(rotation=0)\n",
    "plt.show()"
   ]
  },
  {
   "attachments": {},
   "cell_type": "markdown",
   "metadata": {},
   "source": [
    "#### Luego del rspectivo análisis y transformación lo convertimos a CSV"
   ]
  },
  {
   "cell_type": "code",
   "execution_count": 140,
   "metadata": {},
   "outputs": [],
   "source": [
    "ingresos_internet_fijo.to_csv('D:/Melissa/Data Analitycs Enacom/ingresos_internet_fijo.csv', index=False)"
   ]
  }
 ],
 "metadata": {
  "kernelspec": {
   "display_name": "Python 3",
   "language": "python",
   "name": "python3"
  },
  "language_info": {
   "codemirror_mode": {
    "name": "ipython",
    "version": 3
   },
   "file_extension": ".py",
   "mimetype": "text/x-python",
   "name": "python",
   "nbconvert_exporter": "python",
   "pygments_lexer": "ipython3",
   "version": "3.11.0"
  },
  "orig_nbformat": 4,
  "vscode": {
   "interpreter": {
    "hash": "52634da84371cba311ea128a5ea7cdc41ff074b781779e754b270ff9f8153cee"
   }
  }
 },
 "nbformat": 4,
 "nbformat_minor": 2
}
